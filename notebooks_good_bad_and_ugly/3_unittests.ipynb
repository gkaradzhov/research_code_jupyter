{
 "cells": [
  {
   "cell_type": "code",
   "execution_count": 3,
   "metadata": {},
   "outputs": [],
   "source": [
    "def my_adding_function(a, b):\n",
    "    return a + b"
   ]
  },
  {
   "cell_type": "code",
   "execution_count": 12,
   "metadata": {},
   "outputs": [],
   "source": [
    "def rescale(input_list):\n",
    "    if not isinstance(input_list, list):\n",
    "        raise ValueError(\"Please provide a list to rescale\")\n",
    "        \n",
    "    min_value = min(input_list)\n",
    "    max_value = max(input_list)\n",
    "    range_values = max_value - min_value\n",
    "    scaled = [(r - min_value)/range_values for r in input_list]\n",
    "    return scaled"
   ]
  },
  {
   "cell_type": "code",
   "execution_count": 9,
   "metadata": {},
   "outputs": [],
   "source": [
    "import unittest"
   ]
  },
  {
   "cell_type": "code",
   "execution_count": 13,
   "metadata": {},
   "outputs": [
    {
     "name": "stderr",
     "output_type": "stream",
     "text": [
      "test_add (__main__.TestNotebook) ... FAIL\n",
      "test_rescaling (__main__.TestNotebook) ... ok\n",
      "test_rescaling_fail (__main__.TestNotebook) ... ok\n",
      "\n",
      "======================================================================\n",
      "FAIL: test_add (__main__.TestNotebook)\n",
      "----------------------------------------------------------------------\n",
      "Traceback (most recent call last):\n",
      "  File \"<ipython-input-13-7d264500e7fe>\", line 4, in test_add\n",
      "    self.assertEqual(my_adding_function(2, 2), 5)\n",
      "AssertionError: 4 != 5\n",
      "\n",
      "----------------------------------------------------------------------\n",
      "Ran 3 tests in 0.005s\n",
      "\n",
      "FAILED (failures=1)\n"
     ]
    },
    {
     "data": {
      "text/plain": [
       "<unittest.main.TestProgram at 0x105c5e0f0>"
      ]
     },
     "execution_count": 13,
     "metadata": {},
     "output_type": "execute_result"
    }
   ],
   "source": [
    "class TestNotebook(unittest.TestCase):\n",
    "\n",
    "    def test_add(self):\n",
    "        self.assertEqual(my_adding_function(2, 2), 5)\n",
    "    \n",
    "    def test_rescaling(self):\n",
    "        test_list = [1, 2, 2, 3]\n",
    "        expected_output = [0, 0.5, 0.5, 1]\n",
    "        \n",
    "        rescaled = rescale(test_list)\n",
    "        self.assertEqual(rescaled, expected_output)\n",
    "\n",
    "    def test_rescaling_fail(self):\n",
    "        test_list = \"potato\"\n",
    "        \n",
    "        with self.assertRaises(ValueError):\n",
    "            rescaled = rescale(test_list)\n",
    "        \n",
    "unittest.main(argv=[''], verbosity=2, exit=False)"
   ]
  },
  {
   "cell_type": "code",
   "execution_count": null,
   "metadata": {},
   "outputs": [],
   "source": []
  }
 ],
 "metadata": {
  "kernelspec": {
   "display_name": "Python 3",
   "language": "python",
   "name": "python3"
  },
  "language_info": {
   "codemirror_mode": {
    "name": "ipython",
    "version": 3
   },
   "file_extension": ".py",
   "mimetype": "text/x-python",
   "name": "python",
   "nbconvert_exporter": "python",
   "pygments_lexer": "ipython3",
   "version": "3.6.4"
  }
 },
 "nbformat": 4,
 "nbformat_minor": 2
}
